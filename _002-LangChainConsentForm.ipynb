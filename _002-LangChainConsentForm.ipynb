{
 "cells": [
  {
   "cell_type": "markdown",
   "metadata": {},
   "source": [
    "# Ask Questions of A Document\n",
    "\n",
    "# Let's Look at Embeddings and Vector Databases\n",
    "\n",
    "Let's load a PDF from the file system and then ask question about it. In this case we'll use Embeddings from OpenAI and a local VectorDatbase called ChromaDB"
   ]
  },
  {
   "cell_type": "markdown",
   "metadata": {},
   "source": [
    "![Image Description](embedding1.png)\n",
    "![Image Description](embedding2.png)\n",
    "![Image Description](embedding3.png)\n"
   ]
  },
  {
   "cell_type": "code",
   "execution_count": 1,
   "metadata": {},
   "outputs": [
    {
     "name": "stderr",
     "output_type": "stream",
     "text": [
      "/Users/justin/dev/HALICON-2024/.venv/lib/python3.12/site-packages/langchain_core/_api/deprecation.py:117: LangChainDeprecationWarning: The class `langchain_community.embeddings.openai.OpenAIEmbeddings` was deprecated in langchain-community 0.0.9 and will be removed in 0.2.0. An updated version of the class exists in the langchain-openai package and should be used instead. To use it run `pip install -U langchain-openai` and import as `from langchain_openai import OpenAIEmbeddings`.\n",
      "  warn_deprecated(\n",
      "/Users/justin/dev/HALICON-2024/.venv/lib/python3.12/site-packages/langchain_core/_api/deprecation.py:117: LangChainDeprecationWarning: The class `langchain_community.chat_models.openai.ChatOpenAI` was deprecated in langchain-community 0.0.10 and will be removed in 0.2.0. An updated version of the class exists in the langchain-openai package and should be used instead. To use it run `pip install -U langchain-openai` and import as `from langchain_openai import ChatOpenAI`.\n",
      "  warn_deprecated(\n"
     ]
    }
   ],
   "source": [
    "from langchain.chains import RetrievalQA\n",
    "from langchain.document_loaders import PyPDFLoader\n",
    "from langchain.text_splitter import CharacterTextSplitter\n",
    "from langchain.embeddings import OpenAIEmbeddings\n",
    "from langchain.vectorstores import Chroma\n",
    "from langchain.embeddings import OpenAIEmbeddings\n",
    "from langchain.chat_models import ChatOpenAI\n",
    "\n",
    "# load the PDF document\n",
    "loader = PyPDFLoader(\"consent.pdf\")\n",
    "documents = loader.load()\n",
    "\n",
    "# split the documents into chunks\n",
    "# The chunk size and chunk overlap parameters can be used to control the granularity of the text splitting.\n",
    "text_splitter = CharacterTextSplitter(chunk_size=1000, chunk_overlap=0) # specify how many characters per chunk and overlap\n",
    "texts = text_splitter.split_documents(documents)\n",
    "\n",
    "# select which embeddings we want to use\n",
    "embeddings = OpenAIEmbeddings()\n",
    "\n",
    "# Create embeddings for each chunk and insert into the Chroma vector database.\n",
    "db = Chroma.from_documents(texts, embeddings)\n",
    "\n",
    "# Create a language model and a retriever\n",
    "llm = ChatOpenAI(model='gpt-3.5-turbo', temperature=0)\n",
    "retriever = db.as_retriever()\n",
    "\n",
    "# Create a QA chain\n",
    "chain = RetrievalQA.from_chain_type(llm, retriever=retriever, chain_type='stuff')"
   ]
  },
  {
   "cell_type": "code",
   "execution_count": 3,
   "metadata": {},
   "outputs": [
    {
     "name": "stderr",
     "output_type": "stream",
     "text": [
      "Number of requested results 4 is greater than number of elements in index 3, updating n_results = 3\n"
     ]
    },
    {
     "data": {
      "text/plain": [
       "'Yes, by signing the form, you are requesting that the health information specified in Section 5 be sent to the third party named in Section 4.'"
      ]
     },
     "execution_count": 3,
     "metadata": {},
     "output_type": "execute_result"
    }
   ],
   "source": [
    "query = \"Will information be sent to a third party?\"\n",
    "#query = \"Give me a short summary of this form.\"\n",
    "#query = \"Who approved this form?\"\n",
    "#query = \"Is there potentially a fee for this service?\"\n",
    "#query=\"What is the size of the moon?\"\n",
    "chain.run(query)"
   ]
  },
  {
   "cell_type": "code",
   "execution_count": null,
   "metadata": {},
   "outputs": [],
   "source": []
  }
 ],
 "metadata": {
  "kernelspec": {
   "display_name": ".venv",
   "language": "python",
   "name": "python3"
  },
  "language_info": {
   "codemirror_mode": {
    "name": "ipython",
    "version": 3
   },
   "file_extension": ".py",
   "mimetype": "text/x-python",
   "name": "python",
   "nbconvert_exporter": "python",
   "pygments_lexer": "ipython3",
   "version": "3.12.2"
  }
 },
 "nbformat": 4,
 "nbformat_minor": 2
}
